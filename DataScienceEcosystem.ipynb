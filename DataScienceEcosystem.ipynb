{
 "cells": [
  {
   "cell_type": "markdown",
   "id": "4b16b690-207c-4ba8-9ab6-2983c466fa74",
   "metadata": {},
   "source": [
    "# Data Science Tools and Ecosystem"
   ]
  },
  {
   "cell_type": "markdown",
   "id": "c624f626-dc45-4cf2-a766-28de03efda6f",
   "metadata": {},
   "source": [
    "In this notebook, Data Science Tools and Ecosystem are summarized"
   ]
  },
  {
   "cell_type": "markdown",
   "id": "9844a648-ccc8-45ad-8587-563a5c1d96a7",
   "metadata": {},
   "source": [
    "# Objectives\n",
    "- List popular languages for Data Science\n",
    "- Create Table in Markdown\n",
    "- List Commonly used Libraries by Data Scientist\n",
    "- Create Ordered and Unordered lists in Markdown\n",
    "- Insert links and images using Markdown"
   ]
  },
  {
   "cell_type": "markdown",
   "id": "2891818e-33ec-4369-9fec-dd8ca0aae2cc",
   "metadata": {},
   "source": [
    "# Some of the popular languages that Data Scientists use are:\n",
    "1. R\n",
    "2. Python\n",
    "3. SQL"
   ]
  },
  {
   "cell_type": "markdown",
   "id": "6c869301-7483-45fb-b243-d43a5e8f6fd6",
   "metadata": {},
   "source": [
    "Some of the commonly used libraries used by Data Scientists include:\n",
    "1. PyTorch\n",
    "2. Scrapy\n",
    "3. Numpy"
   ]
  },
  {
   "cell_type": "markdown",
   "id": "b5b32c6b-bb10-4e90-8811-c88b59309687",
   "metadata": {},
   "source": [
    "|Data Science Tools|\n",
    "|------------------|\n",
    "|Jupyter Notebooks|\n",
    "|R Studio|\n",
    "|Zeppelin Notebooks|"
   ]
  },
  {
   "cell_type": "markdown",
   "id": "e5b14a59-01fa-4523-9031-d957eaa20acc",
   "metadata": {},
   "source": [
    "### Below are a few examples of evaluating arithmetic expressions in Python"
   ]
  },
  {
   "cell_type": "code",
   "execution_count": 1,
   "id": "7b97da4b-c102-4efb-bca0-b4f179a59c21",
   "metadata": {},
   "outputs": [
    {
     "data": {
      "text/plain": [
       "17"
      ]
     },
     "execution_count": 1,
     "metadata": {},
     "output_type": "execute_result"
    }
   ],
   "source": [
    "# This a simple arithmetic expression to mutiply then add integers\n",
    "(3*4)+5\n"
   ]
  },
  {
   "cell_type": "code",
   "execution_count": 5,
   "id": "02ae3db7-8383-42f4-a0e4-46886d363d53",
   "metadata": {},
   "outputs": [
    {
     "data": {
      "text/plain": [
       "3.3333333333333335"
      ]
     },
     "execution_count": 5,
     "metadata": {},
     "output_type": "execute_result"
    }
   ],
   "source": [
    "# This will convert 200 minutes to hours by diving by 60\n",
    "200/60 "
   ]
  },
  {
   "cell_type": "markdown",
   "id": "6f7a8984-81dd-4407-a74d-ab6fdc3451aa",
   "metadata": {},
   "source": [
    "## AUTHOR\n",
    "Ronald Diggs"
   ]
  },
  {
   "cell_type": "code",
   "execution_count": null,
   "id": "ac4f5a7c-031b-4883-af15-7563a8f00fd0",
   "metadata": {},
   "outputs": [],
   "source": []
  }
 ],
 "metadata": {
  "kernelspec": {
   "display_name": "Python 3 (ipykernel)",
   "language": "python",
   "name": "python3"
  },
  "language_info": {
   "codemirror_mode": {
    "name": "ipython",
    "version": 3
   },
   "file_extension": ".py",
   "mimetype": "text/x-python",
   "name": "python",
   "nbconvert_exporter": "python",
   "pygments_lexer": "ipython3",
   "version": "3.11.5"
  }
 },
 "nbformat": 4,
 "nbformat_minor": 5
}
